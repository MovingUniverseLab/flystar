{
 "cells": [
  {
   "cell_type": "markdown",
   "metadata": {},
   "source": [
    "# Notebook for Running Align Tests"
   ]
  },
  {
   "cell_type": "code",
   "execution_count": 6,
   "metadata": {},
   "outputs": [],
   "source": [
    "from flystar.tests import test_align\n",
    "from flystar import starlists\n",
    "from astropy.table import Table"
   ]
  },
  {
   "cell_type": "markdown",
   "metadata": {},
   "source": [
    "## Test: make_fake_starlists_poly1_vel\n",
    "\n",
    "Just make sure the tables look sensible and are in the right units."
   ]
  },
  {
   "cell_type": "code",
   "execution_count": 7,
   "metadata": {},
   "outputs": [
    {
     "name": "stdout",
     "output_type": "stream",
     "text": [
      "  name           m0                m0e          ...         vye           t0  \n",
      "-------- ----------------- -------------------- ... ------------------- ------\n",
      "star_155 9.106905292995506 0.054167528156861204 ...  0.1564397531527286 2019.5\n",
      "star_113 9.153031462110043   0.0421090989942197 ... 0.08128628950126615 2019.5\n",
      "star_077  9.16547870263162  0.02021147759307802 ... 0.05907352582911862 2019.5\n",
      "star_069 9.169817788300977 0.027788213230369625 ... 0.04965351499764548 2019.5\n",
      "star_037 9.173200786855755 0.007665400875860144 ... 0.22723357600795704 2019.5\n",
      "  name           m                  me          ...          ye            t   \n",
      "-------- ----------------- -------------------- ... -------------------- ------\n",
      "star_155 9.198437965086988 0.054167528156861204 ...  0.02649499466969545 2018.5\n",
      "star_113 9.257333243243941   0.0421090989942197 ...  0.02606700846524875 2018.5\n",
      "star_077 9.252158908537464  0.02021147759307802 ...  0.04250920654497108 2018.5\n",
      "star_069 9.267901667333167 0.027788213230369625 ... 0.042689240225924296 2018.5\n",
      "star_037 9.276780126418494 0.007665400875860144 ...  0.03592203011554212 2018.5\n",
      "  name           m                  me          ...          ye            t   \n",
      "-------- ----------------- -------------------- ... -------------------- ------\n",
      "star_155 9.478887659623185 0.054167528156861204 ...  0.02649499466969545 2019.5\n",
      "star_113 9.569878576042546   0.0421090989942197 ...  0.02606700846524875 2019.5\n",
      "star_077 9.575998150724095  0.02021147759307802 ...  0.04250920654497108 2019.5\n",
      "star_069 9.593581807234129 0.027788213230369625 ... 0.042689240225924296 2019.5\n",
      "star_037 9.553127108740597 0.007665400875860144 ...  0.03592203011554212 2019.5\n",
      "['name', 'm0', 'm0e', 'x0', 'x0e', 'y0', 'y0e', 'vx', 'vxe', 'vy', 'vye', 't0']\n",
      "['name', 'm', 'me', 'x', 'xe', 'y', 'ye', 't']\n"
     ]
    },
    {
     "name": "stderr",
     "output_type": "stream",
     "text": [
      "/Users/jlu/code/python/flystar/flystar/starlists.py:386: UserWarning: The StarList class requires a arguments('name', 'x', 'y', 'm')\n",
      "  warnings.warn(err_msg, UserWarning)\n"
     ]
    }
   ],
   "source": [
    "test_align.make_fake_starlists_poly1_vel()\n",
    "\n",
    "ref = Table.read('random_vel_ref.fits')\n",
    "lis0 = Table.read('random_vel_0.fits')\n",
    "lis1 = Table.read('random_vel_1.fits')\n",
    "\n",
    "print(ref[0:5])\n",
    "print(lis0[0:5])\n",
    "print(lis1[0:5])\n",
    "\n",
    "print(ref.colnames)\n",
    "print(lis0.colnames)\n"
   ]
  },
  {
   "cell_type": "markdown",
   "metadata": {},
   "source": [
    "## test_align_vel\n",
    "\n",
    "Make sure it runs, make some plots along the way, etc."
   ]
  },
  {
   "cell_type": "code",
   "execution_count": 12,
   "metadata": {},
   "outputs": [
    {
     "name": "stderr",
     "output_type": "stream",
     "text": [
      "/Users/jlu/code/python/flystar/flystar/starlists.py:386: UserWarning: The StarList class requires a arguments('name', 'x', 'y', 'm')\n",
      "  warnings.warn(err_msg, UserWarning)\n",
      "/Users/jlu/code/python/flystar/flystar/starlists.py:386: UserWarning: The StarList class requires a arguments('name', 'x', 'y', 'm')\n",
      "  warnings.warn(err_msg, UserWarning)\n"
     ]
    },
    {
     "name": "stdout",
     "output_type": "stream",
     "text": [
      " \n",
      "**********\n",
      "**********\n",
      "Starting iter 0 with ref_table shape: (200, 1)\n",
      "**********\n",
      "**********\n",
      " \n",
      "   **********\n",
      "   Matching catalog 1 / 4 in iteration 0 with 200 stars\n",
      "   **********\n",
      "initial_guess: 50 stars matched between starlist and reference list\n",
      "initial_guess:  [-6.05144456e+00  1.01098279e+00 -2.50608887e-04] [-1.07161761e+01  4.89226304e-05  1.01096529e+00]\n",
      "    Found 0 duplicates out of 196 matches\n",
      "In Loop  0  found  196  matches\n",
      "    Found 0 duplicates out of 196 matches\n",
      " \n",
      "   **********\n",
      "   Matching catalog 2 / 4 in iteration 0 with 200 stars\n",
      "   **********\n",
      "initial_guess: 49 stars matched between starlist and reference list\n",
      "initial_guess:  [-1.02158015e+02  1.02080743e+00 -1.45081519e-04] [-5.07779471e+01 -2.60729494e-05  9.99423500e-01]\n",
      "    Found 0 duplicates out of 200 matches\n",
      "In Loop  0  found  200  matches\n",
      "    Found 0 duplicates out of 200 matches\n",
      " \n",
      "   **********\n",
      "   Matching catalog 3 / 4 in iteration 0 with 200 stars\n",
      "   **********\n",
      "initial_guess: 50 stars matched between starlist and reference list\n",
      "initial_guess:  [-2.14220566e-10  1.00000000e+00 -2.24089697e-16] [2.50622339e-10 0.00000000e+00 1.00000000e+00]\n",
      "    Found 0 duplicates out of 200 matches\n",
      "In Loop  0  found  200  matches\n",
      "    Found 0 duplicates out of 200 matches\n",
      " \n",
      "   **********\n",
      "   Matching catalog 4 / 4 in iteration 0 with 200 stars\n",
      "   **********\n",
      "initial_guess: 50 stars matched between starlist and reference list\n",
      "initial_guess:  [-2.57803428e+02  1.03052409e+00 -5.28390832e-05] [ 2.49886631e+02 -6.00884405e-05  9.98642952e-01]\n",
      "    Found 0 duplicates out of 200 matches\n",
      "In Loop  0  found  200  matches\n",
      "    Found 0 duplicates out of 200 matches\n",
      " \n",
      "**********\n",
      "**********\n",
      "Starting iter 1 with ref_table shape: (204, 4)\n",
      "**********\n",
      "**********\n",
      " \n",
      "   **********\n",
      "   Matching catalog 1 / 4 in iteration 1 with 200 stars\n",
      "   **********\n",
      "    Found 0 duplicates out of 199 matches\n",
      "In Loop  1  found  199  matches\n",
      "    Found 0 duplicates out of 199 matches\n",
      " \n",
      "   **********\n",
      "   Matching catalog 2 / 4 in iteration 1 with 200 stars\n",
      "   **********\n",
      "    Found 0 duplicates out of 198 matches\n",
      "In Loop  1  found  198  matches\n",
      "    Found 0 duplicates out of 199 matches\n",
      " \n",
      "   **********\n",
      "   Matching catalog 3 / 4 in iteration 1 with 200 stars\n",
      "   **********\n"
     ]
    },
    {
     "name": "stderr",
     "output_type": "stream",
     "text": [
      "/Users/jlu/code/python/flystar/flystar/starlists.py:386: UserWarning: The StarList class requires a arguments('name', 'x', 'y', 'm')\n",
      "  warnings.warn(err_msg, UserWarning)\n"
     ]
    },
    {
     "name": "stdout",
     "output_type": "stream",
     "text": [
      "    Found 0 duplicates out of 200 matches\n",
      "In Loop  1  found  200  matches\n",
      "    Found 0 duplicates out of 200 matches\n",
      " \n",
      "   **********\n",
      "   Matching catalog 4 / 4 in iteration 1 with 200 stars\n",
      "   **********\n",
      "    Found 0 duplicates out of 200 matches\n",
      "In Loop  1  found  200  matches\n",
      "    Found 0 duplicates out of 200 matches\n",
      "**********\n",
      "Final Matching\n",
      "**********\n",
      "    Found 0 duplicates out of 199 matches\n",
      "Matched 199 out of 200 stars in list 0\n",
      "    Found 0 duplicates out of 199 matches\n",
      "Matched 199 out of 200 stars in list 1\n",
      "    Found 0 duplicates out of 200 matches\n",
      "Matched 200 out of 200 stars in list 2\n",
      "    Found 0 duplicates out of 199 matches\n",
      "Matched 199 out of 200 stars in list 3\n",
      "\n",
      "   Preparing the reference table...\n"
     ]
    }
   ],
   "source": [
    "test_align.test_mosaic_lists_vel()"
   ]
  },
  {
   "cell_type": "code",
   "execution_count": 11,
   "metadata": {},
   "outputs": [
    {
     "name": "stdout",
     "output_type": "stream",
     "text": [
      "> /Users/jlu/code/python/flystar/flystar/align.py(3244)apply_mag_lim()\n",
      "-> star_list_T.restrict_by_value(**conditions)\n"
     ]
    },
    {
     "name": "stdin",
     "output_type": "stream",
     "text": [
      "(Pdb)  conditions\n"
     ]
    },
    {
     "name": "stdout",
     "output_type": "stream",
     "text": [
      "{'m0_min': None, 'm0_max': None}\n"
     ]
    },
    {
     "name": "stdin",
     "output_type": "stream",
     "text": [
      "(Pdb)  type(star_list_T)\n"
     ]
    },
    {
     "name": "stdout",
     "output_type": "stream",
     "text": [
      "<class 'flystar.startables.StarTable'>\n"
     ]
    },
    {
     "name": "stdin",
     "output_type": "stream",
     "text": [
      "(Pdb)  type(ref_list)\n"
     ]
    },
    {
     "name": "stdout",
     "output_type": "stream",
     "text": [
      "*** NameError: name 'ref_list' is not defined\n"
     ]
    },
    {
     "name": "stdin",
     "output_type": "stream",
     "text": [
      "(Pdb)  ref_list\n"
     ]
    },
    {
     "name": "stdout",
     "output_type": "stream",
     "text": [
      "*** NameError: name 'ref_list' is not defined\n"
     ]
    },
    {
     "name": "stdin",
     "output_type": "stream",
     "text": [
      "(Pdb)  u\n"
     ]
    },
    {
     "name": "stdout",
     "output_type": "stream",
     "text": [
      "> /Users/jlu/code/python/flystar/flystar/align.py(991)mosaic_lists()\n",
      "-> ref_list_T  = apply_mag_lim(ref_list, mag_lim[ref_index])\n"
     ]
    },
    {
     "name": "stdin",
     "output_type": "stream",
     "text": [
      "(Pdb)  type(ref_list)\n"
     ]
    },
    {
     "name": "stdout",
     "output_type": "stream",
     "text": [
      "<class 'flystar.startables.StarTable'>\n"
     ]
    },
    {
     "name": "stdin",
     "output_type": "stream",
     "text": [
      "(Pdb)  q\n"
     ]
    }
   ],
   "source": [
    "import pdb\n",
    "pdb.pm()"
   ]
  },
  {
   "cell_type": "code",
   "execution_count": null,
   "metadata": {},
   "outputs": [],
   "source": []
  }
 ],
 "metadata": {
  "kernelspec": {
   "display_name": "Python 3",
   "language": "python",
   "name": "python3"
  },
  "language_info": {
   "codemirror_mode": {
    "name": "ipython",
    "version": 3
   },
   "file_extension": ".py",
   "mimetype": "text/x-python",
   "name": "python",
   "nbconvert_exporter": "python",
   "pygments_lexer": "ipython3",
   "version": "3.6.7"
  }
 },
 "nbformat": 4,
 "nbformat_minor": 2
}
